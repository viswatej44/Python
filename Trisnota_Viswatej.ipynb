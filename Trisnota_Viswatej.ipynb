{
  "nbformat": 4,
  "nbformat_minor": 0,
  "metadata": {
    "colab": {
      "private_outputs": true,
      "provenance": [],
      "mount_file_id": "1Utjvd3fBfWJEmf8oJyrrBUQFOqE8vzbO",
      "authorship_tag": "ABX9TyORas1SmPHDXsbG6G4XAXE9",
      "include_colab_link": true
    },
    "kernelspec": {
      "name": "python3",
      "display_name": "Python 3"
    },
    "language_info": {
      "name": "python"
    }
  },
  "cells": [
    {
      "cell_type": "markdown",
      "metadata": {
        "id": "view-in-github",
        "colab_type": "text"
      },
      "source": [
        "<a href=\"https://colab.research.google.com/github/viswatej44/Python/blob/master/Trisnota_Viswatej.ipynb\" target=\"_parent\"><img src=\"https://colab.research.google.com/assets/colab-badge.svg\" alt=\"Open In Colab\"/></a>"
      ]
    },
    {
      "cell_type": "code",
      "execution_count": null,
      "metadata": {
        "id": "5rOYcHbGPDwY"
      },
      "outputs": [],
      "source": [
        "import numpy as np\n",
        "import pandas as pd\n"
      ]
    },
    {
      "cell_type": "code",
      "source": [
        "tdataset = pd.read_csv(\"/content/drive/MyDrive/yugasys/profanity words filter/P-IMAGES/3rd stage 1k consized.csv\")"
      ],
      "metadata": {
        "id": "4Q1Q7RQOPKiL"
      },
      "execution_count": null,
      "outputs": []
    },
    {
      "cell_type": "code",
      "source": [
        "tdataset.head(10)"
      ],
      "metadata": {
        "id": "umYA4f3YPs-z"
      },
      "execution_count": null,
      "outputs": []
    },
    {
      "cell_type": "markdown",
      "source": [
        "#plotting scatter data"
      ],
      "metadata": {
        "id": "ffnAC_DsQvfv"
      }
    },
    {
      "cell_type": "code",
      "source": [
        "x_colo = tdataset['unit'].values\n",
        "y_colo = tdataset['v'].values\n",
        "print(\"firsat col\",x_colo)\n",
        "print(\"second col\",y_colo)"
      ],
      "metadata": {
        "id": "xLuLAmN5Pyjj"
      },
      "execution_count": null,
      "outputs": []
    },
    {
      "cell_type": "code",
      "source": [
        "def estimate_coef(x_colo, y_colo):\n",
        "    # number of observations/points\n",
        "    n = np.size(x_colo)\n",
        "\n",
        "    # mean of x and y vector\n",
        "    m_x = np.mean(x_colo)\n",
        "    m_y = np.mean(y_colo)\n",
        "\n",
        "    # calculating cross-deviation and deviation about x\n",
        "    SS_xy = np.sum(y_colo*x_colo) - n*m_y*m_x\n",
        "    SS_xx = np.sum(x_colo*x_colo) - n*m_x*m_x\n",
        "\n",
        "    # calculating regression coefficients\n",
        "    b_1 = SS_xy / SS_xx\n",
        "    b_0 = m_y - b_1*m_x\n",
        "\n",
        "    return (b_0, b_1)\n",
        "\n",
        "b = estimate_coef(x_colo, y_colo)\n",
        "print(\"Estimated coefficients:\\nb_0 = {}  \\\\ nb_1 = {}\".format(b[0], b[1]))"
      ],
      "metadata": {
        "id": "WUXyOh16S687"
      },
      "execution_count": null,
      "outputs": []
    },
    {
      "cell_type": "code",
      "source": [
        "\n",
        "import matplotlib.pyplot as plt\n",
        "\n",
        "def plot_regression_line(x_colo, y_colo, b):\n",
        "    # plotting the actual points as scatter plot\n",
        "    plt.scatter(x_colo, y_colo, color = \"m\",\n",
        "               marker = \"o\", s = 30)\n",
        "\n",
        "    # predicted response vector\n",
        "    y_pred = b[0] + b[1]*x_colo\n",
        "\n",
        "    # plotting the regression line\n",
        "    plt.plot(x_colo, y_pred, color = \"g\")\n",
        "\n",
        "    # putting labels\n",
        "    plt.xlabel('x_colo')\n",
        "    plt.ylabel('y_colo')\n",
        "\n",
        "    # function to show plot\n",
        "plt.show()\n",
        "plot_regression_line(x_colo, y_colo, b)\n"
      ],
      "metadata": {
        "id": "Kyn5wyGzCo9M"
      },
      "execution_count": null,
      "outputs": []
    }
  ]
}