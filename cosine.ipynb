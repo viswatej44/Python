{
  "nbformat": 4,
  "nbformat_minor": 0,
  "metadata": {
    "colab": {
      "private_outputs": true,
      "provenance": [],
      "authorship_tag": "ABX9TyOYrvfX9sJHuqd6I/okzQU6",
      "include_colab_link": true
    },
    "kernelspec": {
      "name": "python3",
      "display_name": "Python 3"
    },
    "language_info": {
      "name": "python"
    }
  },
  "cells": [
    {
      "cell_type": "markdown",
      "metadata": {
        "id": "view-in-github",
        "colab_type": "text"
      },
      "source": [
        "<a href=\"https://colab.research.google.com/github/viswatej44/Python/blob/master/cosine.ipynb\" target=\"_parent\"><img src=\"https://colab.research.google.com/assets/colab-badge.svg\" alt=\"Open In Colab\"/></a>"
      ]
    },
    {
      "cell_type": "code",
      "execution_count": null,
      "metadata": {
        "id": "IOGfIBFmkwG2"
      },
      "outputs": [],
      "source": [
        "import pandas as pd\n",
        "\n",
        "# Sample dataset of profiles with interests\n",
        "data = {\n",
        "    'ProfileID': [1, 2, 3, 4, 5],\n",
        "    'Interest1': ['Music', 'Sports', 'Sports', 'Movies', 'Music'],\n",
        "    'Interest2': ['Movies', 'Music', 'Music', 'Sports', 'Books']\n",
        "}\n",
        "\n",
        "profiles = pd.DataFrame(data)\n",
        "\n",
        "profiles['CombinedInterests'] = profiles[['Interest1', 'Interest2']].apply(lambda x: ', '.join(x), axis=1)\n",
        "\n",
        "print(type(profiles))\n",
        "print(profiles)"
      ]
    },
    {
      "cell_type": "code",
      "source": [
        "import pandas as pd\n",
        "from sklearn.metrics.pairwise import cosine_similarity\n",
        "from sklearn.feature_extraction.text import CountVectorizer\n",
        "\n",
        "\n",
        "\n",
        "profiles_csv=pd.read_csv('/content/indian politics_SET_three - MOCK_DATA.csv')\n",
        "profiles = pd.DataFrame(profiles_csv)\n",
        "profiles['CombinedInterests'] = profiles[['position', 'state']].apply(lambda x: ', '.join(x), axis=1)\n",
        "\n",
        "#profiles['Interests'] = profiles['no_votes'] + ', ' + profiles['no_people']\n",
        "\n",
        "vectorizer = CountVectorizer()\n",
        "interest_matrix = vectorizer.fit_transform(profiles['CombinedInterests'])\n",
        "\n",
        "cos_sim = cosine_similarity(interest_matrix, interest_matrix)\n",
        "\n",
        "def get_similar_profiles(profile_id, similarity_matrix, num_recommendations=5):\n",
        "    # Get the index of the given profile ID\n",
        "    profile_index = profiles[profiles['id'] == profile_id].index[0]\n",
        "\n",
        "    # Get similarity scores for the given profile\n",
        "    similarity_scores = list(enumerate(similarity_matrix[profile_index]))\n",
        "\n",
        "    # Sort profiles by similarity scores\n",
        "    similarity_scores = sorted(similarity_scores, key=lambda x: x[1], reverse=True)\n",
        "\n",
        "    # Exclude the given profile itself from recommendations\n",
        "    similarity_scores = similarity_scores[1:]\n",
        "\n",
        "    # Get top similar profiles\n",
        "    similar_profiles = [profiles.iloc[score[0]] for score in similarity_scores[:num_recommendations]]\n",
        "\n",
        "    return similar_profiles\n",
        "\n",
        "# Example: Recommend similar profiles for ProfileID = 1\n",
        "similar_profiles = get_similar_profiles(1, cos_sim)\n",
        "print(type(similar_profiles))\n",
        "\n"
      ],
      "metadata": {
        "id": "V5l4qKfSxY7z"
      },
      "execution_count": null,
      "outputs": []
    }
  ]
}